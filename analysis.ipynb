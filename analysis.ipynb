{
 "cells": [
  {
   "cell_type": "markdown",
   "metadata": {},
   "source": [
    "**Pricing strategy to maximize revenue based on demand, competitor pricing, and discounts.**"
   ]
  },
  {
   "cell_type": "code",
   "execution_count": 21,
   "metadata": {},
   "outputs": [],
   "source": [
    "# library Imports\n",
    "import pandas as pd\n",
    "import numpy as np \n",
    "import matplotlib.pyplot as plt\n",
    "import seaborn as sns\n",
    "import plotly.express as px # For high-level interface\n",
    "import plotly.graph_objects as go # For more control\n",
    "from bokeh.plotting import figure, show\n",
    "import altair as alt\n",
    "import pygal\n",
    "from sklearn.ensemble import HistGradientBoostingRegressor\n",
    "from sklearn.model_selection import train_test_split\n",
    "from sklearn.metrics import mean_squared_error, r2_score\n",
    "import matplotlib.pyplot as plt"
   ]
  },
  {
   "cell_type": "markdown",
   "metadata": {},
   "source": [
    "1. Loading and Exploring the Data"
   ]
  },
  {
   "cell_type": "code",
   "execution_count": 22,
   "metadata": {},
   "outputs": [],
   "source": [
    "df = pd.read_csv('data/retail_store_inventory.csv')"
   ]
  },
  {
   "cell_type": "code",
   "execution_count": 23,
   "metadata": {},
   "outputs": [
    {
     "data": {
      "application/vnd.microsoft.datawrangler.viewer.v0+json": {
       "columns": [
        {
         "name": "index",
         "rawType": "int64",
         "type": "integer"
        },
        {
         "name": "Date",
         "rawType": "object",
         "type": "string"
        },
        {
         "name": "Store ID",
         "rawType": "object",
         "type": "string"
        },
        {
         "name": "Product ID",
         "rawType": "object",
         "type": "string"
        },
        {
         "name": "Category",
         "rawType": "object",
         "type": "string"
        },
        {
         "name": "Region",
         "rawType": "object",
         "type": "string"
        },
        {
         "name": "Inventory Level",
         "rawType": "int64",
         "type": "integer"
        },
        {
         "name": "Units Sold",
         "rawType": "int64",
         "type": "integer"
        },
        {
         "name": "Units Ordered",
         "rawType": "int64",
         "type": "integer"
        },
        {
         "name": "Demand Forecast",
         "rawType": "float64",
         "type": "float"
        },
        {
         "name": "Price",
         "rawType": "float64",
         "type": "float"
        },
        {
         "name": "Discount",
         "rawType": "int64",
         "type": "integer"
        },
        {
         "name": "Weather Condition",
         "rawType": "object",
         "type": "string"
        },
        {
         "name": "Holiday/Promotion",
         "rawType": "int64",
         "type": "integer"
        },
        {
         "name": "Competitor Pricing",
         "rawType": "float64",
         "type": "float"
        },
        {
         "name": "Seasonality",
         "rawType": "object",
         "type": "string"
        }
       ],
       "conversionMethod": "pd.DataFrame",
       "ref": "1e64a26c-d30d-4b84-ac62-a80e3de28d8d",
       "rows": [
        [
         "0",
         "2022-01-01",
         "S001",
         "P0001",
         "Groceries",
         "North",
         "231",
         "127",
         "55",
         "135.47",
         "33.5",
         "20",
         "Rainy",
         "0",
         "29.69",
         "Autumn"
        ],
        [
         "1",
         "2022-01-01",
         "S001",
         "P0002",
         "Toys",
         "South",
         "204",
         "150",
         "66",
         "144.04",
         "63.01",
         "20",
         "Sunny",
         "0",
         "66.16",
         "Autumn"
        ],
        [
         "2",
         "2022-01-01",
         "S001",
         "P0003",
         "Toys",
         "West",
         "102",
         "65",
         "51",
         "74.02",
         "27.99",
         "10",
         "Sunny",
         "1",
         "31.32",
         "Summer"
        ],
        [
         "3",
         "2022-01-01",
         "S001",
         "P0004",
         "Toys",
         "North",
         "469",
         "61",
         "164",
         "62.18",
         "32.72",
         "10",
         "Cloudy",
         "1",
         "34.74",
         "Autumn"
        ],
        [
         "4",
         "2022-01-01",
         "S001",
         "P0005",
         "Electronics",
         "East",
         "166",
         "14",
         "135",
         "9.26",
         "73.64",
         "0",
         "Sunny",
         "0",
         "68.95",
         "Summer"
        ]
       ],
       "shape": {
        "columns": 15,
        "rows": 5
       }
      },
      "text/html": [
       "<div>\n",
       "<style scoped>\n",
       "    .dataframe tbody tr th:only-of-type {\n",
       "        vertical-align: middle;\n",
       "    }\n",
       "\n",
       "    .dataframe tbody tr th {\n",
       "        vertical-align: top;\n",
       "    }\n",
       "\n",
       "    .dataframe thead th {\n",
       "        text-align: right;\n",
       "    }\n",
       "</style>\n",
       "<table border=\"1\" class=\"dataframe\">\n",
       "  <thead>\n",
       "    <tr style=\"text-align: right;\">\n",
       "      <th></th>\n",
       "      <th>Date</th>\n",
       "      <th>Store ID</th>\n",
       "      <th>Product ID</th>\n",
       "      <th>Category</th>\n",
       "      <th>Region</th>\n",
       "      <th>Inventory Level</th>\n",
       "      <th>Units Sold</th>\n",
       "      <th>Units Ordered</th>\n",
       "      <th>Demand Forecast</th>\n",
       "      <th>Price</th>\n",
       "      <th>Discount</th>\n",
       "      <th>Weather Condition</th>\n",
       "      <th>Holiday/Promotion</th>\n",
       "      <th>Competitor Pricing</th>\n",
       "      <th>Seasonality</th>\n",
       "    </tr>\n",
       "  </thead>\n",
       "  <tbody>\n",
       "    <tr>\n",
       "      <th>0</th>\n",
       "      <td>2022-01-01</td>\n",
       "      <td>S001</td>\n",
       "      <td>P0001</td>\n",
       "      <td>Groceries</td>\n",
       "      <td>North</td>\n",
       "      <td>231</td>\n",
       "      <td>127</td>\n",
       "      <td>55</td>\n",
       "      <td>135.47</td>\n",
       "      <td>33.50</td>\n",
       "      <td>20</td>\n",
       "      <td>Rainy</td>\n",
       "      <td>0</td>\n",
       "      <td>29.69</td>\n",
       "      <td>Autumn</td>\n",
       "    </tr>\n",
       "    <tr>\n",
       "      <th>1</th>\n",
       "      <td>2022-01-01</td>\n",
       "      <td>S001</td>\n",
       "      <td>P0002</td>\n",
       "      <td>Toys</td>\n",
       "      <td>South</td>\n",
       "      <td>204</td>\n",
       "      <td>150</td>\n",
       "      <td>66</td>\n",
       "      <td>144.04</td>\n",
       "      <td>63.01</td>\n",
       "      <td>20</td>\n",
       "      <td>Sunny</td>\n",
       "      <td>0</td>\n",
       "      <td>66.16</td>\n",
       "      <td>Autumn</td>\n",
       "    </tr>\n",
       "    <tr>\n",
       "      <th>2</th>\n",
       "      <td>2022-01-01</td>\n",
       "      <td>S001</td>\n",
       "      <td>P0003</td>\n",
       "      <td>Toys</td>\n",
       "      <td>West</td>\n",
       "      <td>102</td>\n",
       "      <td>65</td>\n",
       "      <td>51</td>\n",
       "      <td>74.02</td>\n",
       "      <td>27.99</td>\n",
       "      <td>10</td>\n",
       "      <td>Sunny</td>\n",
       "      <td>1</td>\n",
       "      <td>31.32</td>\n",
       "      <td>Summer</td>\n",
       "    </tr>\n",
       "    <tr>\n",
       "      <th>3</th>\n",
       "      <td>2022-01-01</td>\n",
       "      <td>S001</td>\n",
       "      <td>P0004</td>\n",
       "      <td>Toys</td>\n",
       "      <td>North</td>\n",
       "      <td>469</td>\n",
       "      <td>61</td>\n",
       "      <td>164</td>\n",
       "      <td>62.18</td>\n",
       "      <td>32.72</td>\n",
       "      <td>10</td>\n",
       "      <td>Cloudy</td>\n",
       "      <td>1</td>\n",
       "      <td>34.74</td>\n",
       "      <td>Autumn</td>\n",
       "    </tr>\n",
       "    <tr>\n",
       "      <th>4</th>\n",
       "      <td>2022-01-01</td>\n",
       "      <td>S001</td>\n",
       "      <td>P0005</td>\n",
       "      <td>Electronics</td>\n",
       "      <td>East</td>\n",
       "      <td>166</td>\n",
       "      <td>14</td>\n",
       "      <td>135</td>\n",
       "      <td>9.26</td>\n",
       "      <td>73.64</td>\n",
       "      <td>0</td>\n",
       "      <td>Sunny</td>\n",
       "      <td>0</td>\n",
       "      <td>68.95</td>\n",
       "      <td>Summer</td>\n",
       "    </tr>\n",
       "  </tbody>\n",
       "</table>\n",
       "</div>"
      ],
      "text/plain": [
       "         Date Store ID Product ID     Category Region  Inventory Level  \\\n",
       "0  2022-01-01     S001      P0001    Groceries  North              231   \n",
       "1  2022-01-01     S001      P0002         Toys  South              204   \n",
       "2  2022-01-01     S001      P0003         Toys   West              102   \n",
       "3  2022-01-01     S001      P0004         Toys  North              469   \n",
       "4  2022-01-01     S001      P0005  Electronics   East              166   \n",
       "\n",
       "   Units Sold  Units Ordered  Demand Forecast  Price  Discount  \\\n",
       "0         127             55           135.47  33.50        20   \n",
       "1         150             66           144.04  63.01        20   \n",
       "2          65             51            74.02  27.99        10   \n",
       "3          61            164            62.18  32.72        10   \n",
       "4          14            135             9.26  73.64         0   \n",
       "\n",
       "  Weather Condition  Holiday/Promotion  Competitor Pricing Seasonality  \n",
       "0             Rainy                  0               29.69      Autumn  \n",
       "1             Sunny                  0               66.16      Autumn  \n",
       "2             Sunny                  1               31.32      Summer  \n",
       "3            Cloudy                  1               34.74      Autumn  \n",
       "4             Sunny                  0               68.95      Summer  "
      ]
     },
     "execution_count": 23,
     "metadata": {},
     "output_type": "execute_result"
    }
   ],
   "source": [
    "df.head()"
   ]
  },
  {
   "cell_type": "code",
   "execution_count": 24,
   "metadata": {},
   "outputs": [
    {
     "name": "stdout",
     "output_type": "stream",
     "text": [
      "<class 'pandas.core.frame.DataFrame'>\n",
      "RangeIndex: 73100 entries, 0 to 73099\n",
      "Data columns (total 15 columns):\n",
      " #   Column              Non-Null Count  Dtype  \n",
      "---  ------              --------------  -----  \n",
      " 0   Date                73100 non-null  object \n",
      " 1   Store ID            73100 non-null  object \n",
      " 2   Product ID          73100 non-null  object \n",
      " 3   Category            73100 non-null  object \n",
      " 4   Region              73100 non-null  object \n",
      " 5   Inventory Level     73100 non-null  int64  \n",
      " 6   Units Sold          73100 non-null  int64  \n",
      " 7   Units Ordered       73100 non-null  int64  \n",
      " 8   Demand Forecast     73100 non-null  float64\n",
      " 9   Price               73100 non-null  float64\n",
      " 10  Discount            73100 non-null  int64  \n",
      " 11  Weather Condition   73100 non-null  object \n",
      " 12  Holiday/Promotion   73100 non-null  int64  \n",
      " 13  Competitor Pricing  73100 non-null  float64\n",
      " 14  Seasonality         73100 non-null  object \n",
      "dtypes: float64(3), int64(5), object(7)\n",
      "memory usage: 8.4+ MB\n"
     ]
    }
   ],
   "source": [
    "df.info()"
   ]
  },
  {
   "cell_type": "markdown",
   "metadata": {},
   "source": [
    "2. Feature Engineering"
   ]
  },
  {
   "cell_type": "code",
   "execution_count": 25,
   "metadata": {},
   "outputs": [],
   "source": [
    "# Effective price after discount\n",
    "df[\"Effective Price\"] = df[\"Price\"] * (1 - df[\"Discount\"] / 100)\n",
    "\n",
    "# Revenue = Effective price × Units Sold\n",
    "df[\"Revenue\"] = df[\"Effective Price\"] * df[\"Units Sold\"]\n",
    "\n",
    "# Encoding categorical variables\n",
    "df = pd.get_dummies(df, columns=[\"Category\", \"Region\", \"Weather Condition\", \"Seasonality\"], drop_first=True)\n"
   ]
  },
  {
   "cell_type": "markdown",
   "metadata": {},
   "source": [
    "3. Model to Predict Optimal Price"
   ]
  },
  {
   "cell_type": "code",
   "execution_count": 26,
   "metadata": {},
   "outputs": [
    {
     "data": {
      "application/vnd.microsoft.datawrangler.viewer.v0+json": {
       "columns": [
        {
         "name": "index",
         "rawType": "int64",
         "type": "integer"
        },
        {
         "name": "Feature",
         "rawType": "object",
         "type": "string"
        },
        {
         "name": "Importance",
         "rawType": "float32",
         "type": "float"
        }
       ],
       "conversionMethod": "pd.DataFrame",
       "ref": "41c1e1d5-b60c-4885-a68c-cbdebf6b58b3",
       "rows": [
        [
         "2",
         "Demand Forecast",
         "0.62445575"
        ],
        [
         "6",
         "Effective Price",
         "0.24296477"
        ],
        [
         "5",
         "Competitor Pricing",
         "0.11721554"
        ],
        [
         "0",
         "Inventory Level",
         "0.010702734"
        ],
        [
         "3",
         "Discount",
         "0.001894693"
        ],
        [
         "4",
         "Holiday/Promotion",
         "0.00022006422"
        ],
        [
         "15",
         "Weather Condition_Snowy",
         "0.00021973085"
        ],
        [
         "1",
         "Units Ordered",
         "0.00021119964"
        ],
        [
         "19",
         "Seasonality_Winter",
         "0.00020632808"
        ],
        [
         "18",
         "Seasonality_Summer",
         "0.00020058651"
        ],
        [
         "8",
         "Category_Furniture",
         "0.0001965787"
        ],
        [
         "12",
         "Region_South",
         "0.00019298203"
        ],
        [
         "13",
         "Region_West",
         "0.00018897775"
        ],
        [
         "10",
         "Category_Toys",
         "0.0001851804"
        ],
        [
         "14",
         "Weather Condition_Rainy",
         "0.00016411953"
        ],
        [
         "17",
         "Seasonality_Spring",
         "0.00016260057"
        ],
        [
         "16",
         "Weather Condition_Sunny",
         "0.0001625399"
        ],
        [
         "7",
         "Category_Electronics",
         "0.00015920344"
        ],
        [
         "11",
         "Region_North",
         "0.00015281349"
        ],
        [
         "9",
         "Category_Groceries",
         "0.00014355758"
        ]
       ],
       "shape": {
        "columns": 2,
        "rows": 20
       }
      },
      "text/html": [
       "<div>\n",
       "<style scoped>\n",
       "    .dataframe tbody tr th:only-of-type {\n",
       "        vertical-align: middle;\n",
       "    }\n",
       "\n",
       "    .dataframe tbody tr th {\n",
       "        vertical-align: top;\n",
       "    }\n",
       "\n",
       "    .dataframe thead th {\n",
       "        text-align: right;\n",
       "    }\n",
       "</style>\n",
       "<table border=\"1\" class=\"dataframe\">\n",
       "  <thead>\n",
       "    <tr style=\"text-align: right;\">\n",
       "      <th></th>\n",
       "      <th>Feature</th>\n",
       "      <th>Importance</th>\n",
       "    </tr>\n",
       "  </thead>\n",
       "  <tbody>\n",
       "    <tr>\n",
       "      <th>2</th>\n",
       "      <td>Demand Forecast</td>\n",
       "      <td>0.624456</td>\n",
       "    </tr>\n",
       "    <tr>\n",
       "      <th>6</th>\n",
       "      <td>Effective Price</td>\n",
       "      <td>0.242965</td>\n",
       "    </tr>\n",
       "    <tr>\n",
       "      <th>5</th>\n",
       "      <td>Competitor Pricing</td>\n",
       "      <td>0.117216</td>\n",
       "    </tr>\n",
       "    <tr>\n",
       "      <th>0</th>\n",
       "      <td>Inventory Level</td>\n",
       "      <td>0.010703</td>\n",
       "    </tr>\n",
       "    <tr>\n",
       "      <th>3</th>\n",
       "      <td>Discount</td>\n",
       "      <td>0.001895</td>\n",
       "    </tr>\n",
       "    <tr>\n",
       "      <th>4</th>\n",
       "      <td>Holiday/Promotion</td>\n",
       "      <td>0.000220</td>\n",
       "    </tr>\n",
       "    <tr>\n",
       "      <th>15</th>\n",
       "      <td>Weather Condition_Snowy</td>\n",
       "      <td>0.000220</td>\n",
       "    </tr>\n",
       "    <tr>\n",
       "      <th>1</th>\n",
       "      <td>Units Ordered</td>\n",
       "      <td>0.000211</td>\n",
       "    </tr>\n",
       "    <tr>\n",
       "      <th>19</th>\n",
       "      <td>Seasonality_Winter</td>\n",
       "      <td>0.000206</td>\n",
       "    </tr>\n",
       "    <tr>\n",
       "      <th>18</th>\n",
       "      <td>Seasonality_Summer</td>\n",
       "      <td>0.000201</td>\n",
       "    </tr>\n",
       "    <tr>\n",
       "      <th>8</th>\n",
       "      <td>Category_Furniture</td>\n",
       "      <td>0.000197</td>\n",
       "    </tr>\n",
       "    <tr>\n",
       "      <th>12</th>\n",
       "      <td>Region_South</td>\n",
       "      <td>0.000193</td>\n",
       "    </tr>\n",
       "    <tr>\n",
       "      <th>13</th>\n",
       "      <td>Region_West</td>\n",
       "      <td>0.000189</td>\n",
       "    </tr>\n",
       "    <tr>\n",
       "      <th>10</th>\n",
       "      <td>Category_Toys</td>\n",
       "      <td>0.000185</td>\n",
       "    </tr>\n",
       "    <tr>\n",
       "      <th>14</th>\n",
       "      <td>Weather Condition_Rainy</td>\n",
       "      <td>0.000164</td>\n",
       "    </tr>\n",
       "    <tr>\n",
       "      <th>17</th>\n",
       "      <td>Seasonality_Spring</td>\n",
       "      <td>0.000163</td>\n",
       "    </tr>\n",
       "    <tr>\n",
       "      <th>16</th>\n",
       "      <td>Weather Condition_Sunny</td>\n",
       "      <td>0.000163</td>\n",
       "    </tr>\n",
       "    <tr>\n",
       "      <th>7</th>\n",
       "      <td>Category_Electronics</td>\n",
       "      <td>0.000159</td>\n",
       "    </tr>\n",
       "    <tr>\n",
       "      <th>11</th>\n",
       "      <td>Region_North</td>\n",
       "      <td>0.000153</td>\n",
       "    </tr>\n",
       "    <tr>\n",
       "      <th>9</th>\n",
       "      <td>Category_Groceries</td>\n",
       "      <td>0.000144</td>\n",
       "    </tr>\n",
       "  </tbody>\n",
       "</table>\n",
       "</div>"
      ],
      "text/plain": [
       "                    Feature  Importance\n",
       "2           Demand Forecast    0.624456\n",
       "6           Effective Price    0.242965\n",
       "5        Competitor Pricing    0.117216\n",
       "0           Inventory Level    0.010703\n",
       "3                  Discount    0.001895\n",
       "4         Holiday/Promotion    0.000220\n",
       "15  Weather Condition_Snowy    0.000220\n",
       "1             Units Ordered    0.000211\n",
       "19       Seasonality_Winter    0.000206\n",
       "18       Seasonality_Summer    0.000201\n",
       "8        Category_Furniture    0.000197\n",
       "12             Region_South    0.000193\n",
       "13              Region_West    0.000189\n",
       "10            Category_Toys    0.000185\n",
       "14  Weather Condition_Rainy    0.000164\n",
       "17       Seasonality_Spring    0.000163\n",
       "16  Weather Condition_Sunny    0.000163\n",
       "7      Category_Electronics    0.000159\n",
       "11             Region_North    0.000153\n",
       "9        Category_Groceries    0.000144"
      ]
     },
     "execution_count": 26,
     "metadata": {},
     "output_type": "execute_result"
    }
   ],
   "source": [
    "import xgboost as xgb\n",
    "from sklearn.model_selection import train_test_split\n",
    "import pandas as pd\n",
    "\n",
    "# Prepare data\n",
    "X = df.drop(columns=[\"Date\", \"Store ID\", \"Product ID\", \"Revenue\", \"Units Sold\", \"Price\"])\n",
    "y = df[\"Revenue\"]\n",
    "\n",
    "# Train-test split\n",
    "X_train, X_test, y_train, y_test = train_test_split(X, y, test_size=0.2, random_state=42)\n",
    "\n",
    "# Train XGBoost model\n",
    "model = xgb.XGBRegressor(\n",
    "    objective='reg:squarederror',\n",
    "    max_depth=6,\n",
    "    learning_rate=0.1,\n",
    "    n_estimators=100,\n",
    "    subsample=0.8,\n",
    "    colsample_bytree=0.8,\n",
    "    random_state=42\n",
    ")\n",
    "model.fit(X_train, y_train)\n",
    "\n",
    "# Get feature importances\n",
    "importance_df = pd.DataFrame({\n",
    "    \"Feature\": X.columns,\n",
    "    \"Importance\": model.feature_importances_\n",
    "}).sort_values(by=\"Importance\", ascending=False)\n",
    "\n",
    "# Display\n",
    "importance_df\n"
   ]
  },
  {
   "cell_type": "code",
   "execution_count": 27,
   "metadata": {},
   "outputs": [
    {
     "data": {
      "image/png": "[encoded data removed]",
      "text/plain": [
       "<Figure size 1000x600 with 1 Axes>"
      ]
     },
     "metadata": {},
     "output_type": "display_data"
    }
   ],
   "source": [
    "# Plot\n",
    "plt.figure(figsize=(10, 6))\n",
    "plt.barh(importance_df[\"Feature\"], importance_df[\"Importance\"])\n",
    "plt.gca().invert_yaxis()\n",
    "plt.xlabel(\"Importance\")\n",
    "plt.title(\"XGBoost Feature Importances\")\n",
    "plt.tight_layout()\n",
    "plt.show()"
   ]
  },
  {
   "cell_type": "code",
   "execution_count": null,
   "metadata": {},
   "outputs": [],
   "source": []
  },
  {
   "cell_type": "code",
   "execution_count": null,
   "metadata": {},
   "outputs": [],
   "source": []
  },
  {
   "cell_type": "code",
   "execution_count": null,
   "metadata": {},
   "outputs": [],
   "source": []
  },
  {
   "cell_type": "code",
   "execution_count": null,
   "metadata": {},
   "outputs": [],
   "source": []
  },
  {
   "cell_type": "code",
   "execution_count": null,
   "metadata": {},
   "outputs": [],
   "source": []
  },
  {
   "cell_type": "code",
   "execution_count": null,
   "metadata": {},
   "outputs": [],
   "source": []
  }
 ],
 "metadata": {
  "kernelspec": {
   "display_name": "Python 3",
   "language": "python",
   "name": "python3"
  },
  "language_info": {
   "codemirror_mode": {
    "name": "ipython",
    "version": 3
   },
   "file_extension": ".py",
   "mimetype": "text/x-python",
   "name": "python",
   "nbconvert_exporter": "python",
   "pygments_lexer": "ipython3",
   "version": "3.13.3"
  }
 },
 "nbformat": 4,
 "nbformat_minor": 2
}
